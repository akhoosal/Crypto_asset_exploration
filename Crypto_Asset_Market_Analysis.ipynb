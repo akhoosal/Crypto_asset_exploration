{
  "nbformat": 4,
  "nbformat_minor": 0,
  "metadata": {
    "colab": {
      "name": "Crypto Asset Market Analysis.ipynb",
      "provenance": [],
      "authorship_tag": "ABX9TyPt8m8Ycj35XNiQxjimShck",
      "include_colab_link": true
    },
    "kernelspec": {
      "name": "python3",
      "display_name": "Python 3"
    },
    "language_info": {
      "name": "python"
    }
  },
  "cells": [
    {
      "cell_type": "markdown",
      "metadata": {
        "id": "view-in-github",
        "colab_type": "text"
      },
      "source": [
        "<a href=\"https://colab.research.google.com/github/akhoosal/Crypto_asset_exploration/blob/main/Crypto_Asset_Market_Analysis.ipynb\" target=\"_parent\"><img src=\"https://colab.research.google.com/assets/colab-badge.svg\" alt=\"Open In Colab\"/></a>"
      ]
    },
    {
      "cell_type": "markdown",
      "metadata": {
        "id": "4e6VGPUsb3HI"
      },
      "source": [
        "### Crypto Asset Market Exploration\n"
      ]
    },
    {
      "cell_type": "code",
      "metadata": {
        "id": "PCoa1mfYYjrj"
      },
      "source": [
        "#Connecting coinmarketcap  via API\n",
        "!pip install coinmarketcap\n",
        "from coinmarketcapapi import CoinMarketCapAPI, CoinMarketCapAPIError\n",
        "cmc = CoinMarketCapAPI('cdc12f08-9c72-4b8e-971d-7fcfb37fde6a')"
      ],
      "execution_count": null,
      "outputs": []
    },
    {
      "cell_type": "code",
      "metadata": {
        "id": "L-WVqq-zWlNo"
      },
      "source": [
        "# Importing pandas\n",
        "import pandas as pd\n",
        "\n",
        "# Importing matplotlib and setting aesthetics for plotting later.\n",
        "import matplotlib.pyplot as plt\n",
        "%matplotlib inline\n",
        "%config InlineBackend.figure_format = 'svg' \n",
        "plt.style.use('fivethirtyeight')"
      ],
      "execution_count": 26,
      "outputs": []
    },
    {
      "cell_type": "code",
      "metadata": {
        "id": "5bP5Hmb6W5U0"
      },
      "source": [
        "# Reading in current data from coinmarketcap.com\n",
        "current = cmc.cryptocurrency_info(symbol='BTC')\n",
        "# Printing out the first few lines\n",
        "\n",
        "pd = pd.DataFrame(current.data, columns =['name','symbol'])\n",
        "pd.set_index('symbol',inplace=True)\n",
        "print(pd)"
      ],
      "execution_count": null,
      "outputs": []
    }
  ]
}