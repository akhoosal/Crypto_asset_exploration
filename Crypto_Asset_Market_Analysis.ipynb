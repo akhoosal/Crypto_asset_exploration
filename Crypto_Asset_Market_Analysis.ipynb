{
  "nbformat": 4,
  "nbformat_minor": 0,
  "metadata": {
    "colab": {
      "name": "Crypto Asset Market Analysis.ipynb",
      "provenance": [],
      "collapsed_sections": [],
      "authorship_tag": "ABX9TyMdSHLzSws3+XqhLpC2xF3i",
      "include_colab_link": true
    },
    "kernelspec": {
      "name": "python3",
      "display_name": "Python 3"
    },
    "language_info": {
      "name": "python"
    }
  },
  "cells": [
    {
      "cell_type": "markdown",
      "metadata": {
        "id": "view-in-github",
        "colab_type": "text"
      },
      "source": [
        "<a href=\"https://colab.research.google.com/github/akhoosal/Crypto_asset_exploration/blob/main/Crypto_Asset_Market_Analysis.ipynb\" target=\"_parent\"><img src=\"https://colab.research.google.com/assets/colab-badge.svg\" alt=\"Open In Colab\"/></a>"
      ]
    },
    {
      "cell_type": "markdown",
      "metadata": {
        "id": "4e6VGPUsb3HI"
      },
      "source": [
        "### Crypto Asset Market Exploration\n"
      ]
    },
    {
      "cell_type": "code",
      "metadata": {
        "colab": {
          "base_uri": "https://localhost:8080/"
        },
        "id": "PCoa1mfYYjrj",
        "outputId": "62c9501d-ce89-442f-bee5-17bf1e3591bb"
      },
      "source": [
        "#Connecting coinmarketcap  via beautifulsoup\n",
        "!pip install beautifulsoup4"
      ],
      "execution_count": null,
      "outputs": [
        {
          "output_type": "stream",
          "text": [
            "Requirement already satisfied: beautifulsoup4 in /usr/local/lib/python3.7/dist-packages (4.6.3)\n"
          ],
          "name": "stdout"
        }
      ]
    },
    {
      "cell_type": "code",
      "metadata": {
        "id": "L-WVqq-zWlNo"
      },
      "source": [
        "# Importing \n",
        "from bs4 import BeautifulSoup\n",
        "import requests\n",
        "import pandas as pd\n",
        "import json\n",
        "import time\n",
        "\n",
        "# Importing matplotlib and setting aesthetics for plotting later.\n",
        "import matplotlib.pyplot as plt\n",
        "%matplotlib inline\n",
        "%config InlineBackend.figure_format = 'svg' \n",
        "plt.style.use('fivethirtyeight')"
      ],
      "execution_count": null,
      "outputs": []
    },
    {
      "cell_type": "code",
      "metadata": {
        "colab": {
          "base_uri": "https://localhost:8080/"
        },
        "id": "5bP5Hmb6W5U0",
        "outputId": "d02c82a6-2569-4125-b515-99bdf6b41655"
      },
      "source": [
        "#Request of the main page into the BeautifulSoup object.\n",
        "cmc = requests.get('https://coinmarketcap.com')\n",
        "soup = BeautifulSoup(cmc.content, 'html.parser')\n",
        "print(soup.title)"
      ],
      "execution_count": null,
      "outputs": [
        {
          "output_type": "stream",
          "text": [
            "<title>Cryptocurrency Prices, Charts And Market Capitalizations | CoinMarketCap</title>\n"
          ],
          "name": "stdout"
        }
      ]
    },
    {
      "cell_type": "code",
      "metadata": {
        "id": "mURI0foKfgj8"
      },
      "source": [
        "#Fetching Data & Creating a dictionary of coin IDs and slugs we can use to scrape historical data.\n",
        "data = soup.find('script', id=\"__NEXT_DATA__\", type = \"application/json\")\n",
        "\n",
        "coins = {}\n",
        "\n",
        "#Using data.contents[0] to remove script tags\n",
        "coin_data = json.loads(data.contents[0])\n",
        "listings = coin_data['props']['initialState']['cryptocurrency']['listingLatest']['data']\n",
        "\n",
        "for i in listings:\n",
        "  coins[str(i['id'])] = i['slug']"
      ],
      "execution_count": null,
      "outputs": []
    },
    {
      "cell_type": "code",
      "metadata": {
        "id": "aFRVSGFag8K1"
      },
      "source": [
        "#Look at the underlying JSON object within the data\n",
        "for i in coins:\n",
        "  page = requests.get(f'https://coinmarketcap.com/currencies/{coins[i]}/historical-data/?start=202001105&end=20210505')\n",
        "  soup = BeautifulSoup(page.content, 'html.parser')\n",
        "  data = soup.find('script', id=\"__NEXT_DATA__\", type = \"application/json\")\n",
        "  historical_data = json.loads(data.contents[0])"
      ],
      "execution_count": null,
      "outputs": []
    }
  ]
}